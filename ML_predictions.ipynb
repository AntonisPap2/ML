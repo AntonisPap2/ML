{
 "cells": [
  {
   "cell_type": "code",
   "execution_count": 3,
   "id": "bfcd82b9",
   "metadata": {},
   "outputs": [],
   "source": [
    "import numpy as np\n",
    "import pandas as pd\n",
    "\n",
    "from sklearn.linear_model import LogisticRegression\n",
    "from sklearn.model_selection import train_test_split\n",
    "from sklearn.preprocessing import MinMaxScaler\n",
    "from sklearn.model_selection import GridSearchCV\n",
    "from sklearn.metrics import accuracy_score\n",
    "from sklearn.metrics import confusion_matrix\n",
    "from sklearn.metrics import classification_report\n",
    "from sklearn.datasets import make_blobs\n"
   ]
  },
  {
   "cell_type": "code",
   "execution_count": 4,
   "id": "a10fbacf",
   "metadata": {},
   "outputs": [
    {
     "name": "stdout",
     "output_type": "stream",
     "text": [
      "The length of the data now is 296 instead of 303\n"
     ]
    }
   ],
   "source": [
    "df = pd.read_csv('heart.csv')\n",
    "df.rename(columns ={'age':'Age','sex':'Sex','cp':'Chest_pain','trestbps':'Resting_blood_pressure','chol':'Cholesterol',\n",
    "                    'fbs':'Fasting_blood_sugar','restecg':'Resting_ECG_results','thalach':'Max_heart_rate',\n",
    "                    'exang':'Exercise_induced_angina','oldpeak':'ST_depression','slope':'ST_slope',\n",
    "                    'ca':'Major_vessels','thal':'Thalassemia_types','target':'Heart_disease'},inplace = True)\n",
    "df = df.drop(labels=[49,93,159,164,165,252,282], axis=0)#drop wrong Major_vessels and Thalassemia_types values\n",
    "print(f'The length of the data now is {len(df)} instead of 303')\n"
   ]
  },
  {
   "cell_type": "code",
   "execution_count": 6,
   "id": "3f290025",
   "metadata": {},
   "outputs": [],
   "source": [
    "dummy1 = pd.get_dummies(df.Chest_pain)\n",
    "dummy2 = pd.get_dummies(df.Resting_ECG_results)\n",
    "dummy3 = pd.get_dummies(df.ST_slope)\n",
    "dummy4 = pd.get_dummies(df.Major_vessels)\n",
    "dummy5 = pd.get_dummies(df.Thalassemia_types)\n",
    "merge = pd.concat([df,dummy1,dummy2,dummy3,dummy4,dummy5],axis = 'columns')\n",
    "fdf = merge.drop(['Chest_pain','Resting_ECG_results','ST_slope','Major_vessels','Thalassemia_types'],axis = 1)\n",
    "y = fdf[\"Heart_disease\"]\n",
    "X = fdf.drop('Heart_disease',axis=1)\n",
    "fdf = merge.drop(['Chest_pain','Resting_ECG_results','ST_slope','Major_vessels','Thalassemia_types'],axis = 1)\n",
    "fdf.head()\n",
    "X_train, X_test, y_train, y_test = train_test_split(X, y, test_size=0.20, random_state = 42)\n",
    "\n",
    "scaler = MinMaxScaler()\n",
    "X_train = scaler.fit_transform(X_train.values)\n",
    "X_test = scaler.transform(X_test.values)"
   ]
  },
  {
   "cell_type": "code",
   "execution_count": 7,
   "id": "62843cff",
   "metadata": {},
   "outputs": [
    {
     "name": "stdout",
     "output_type": "stream",
     "text": [
      "{'C': 0.5}\n",
      "Logistic Regression Train Accuracy: 85.59%\n",
      "Confusion Matrix\n",
      "[[ 90  17]\n",
      " [ 17 112]]\n",
      "              precision    recall  f1-score   support\n",
      "\n",
      "           0       0.84      0.84      0.84       107\n",
      "           1       0.87      0.87      0.87       129\n",
      "\n",
      "    accuracy                           0.86       236\n",
      "   macro avg       0.85      0.85      0.85       236\n",
      "weighted avg       0.86      0.86      0.86       236\n",
      "\n",
      "Logistic Regression Test Accuracy: 86.67%\n",
      "Confusion Matrix\n",
      "[[24  4]\n",
      " [ 4 28]]\n",
      "              precision    recall  f1-score   support\n",
      "\n",
      "           0       0.86      0.86      0.86        28\n",
      "           1       0.88      0.88      0.88        32\n",
      "\n",
      "    accuracy                           0.87        60\n",
      "   macro avg       0.87      0.87      0.87        60\n",
      "weighted avg       0.87      0.87      0.87        60\n",
      "\n"
     ]
    }
   ],
   "source": [
    "#Logistic Regression\n",
    "Log = LogisticRegression()\n",
    "\n",
    "parameters_log = {'C': [0.01, 0.1, 0.2, 0.5, 2, 5, 10]}\n",
    "\n",
    "log_reg = GridSearchCV(Log, parameters_log, scoring='neg_mean_squared_error' ,cv =5)\n",
    "log_reg.fit(X_train, y_train)\n",
    "print(log_reg.best_params_)\n",
    "\n",
    "model = LogisticRegression(C=0.5)\n",
    "model.fit(X_train,y_train)\n",
    "accuracy_test = model.score(X_test,y_test)\n",
    "accuracy_train = model.score(X_train,y_train)\n",
    "print('Logistic Regression Train Accuracy: {:.2f}%'.format((accuracy_train)*100))\n",
    "pred_train=model.predict(X_train)\n",
    "log_train_matrix=confusion_matrix(y_train,pred_train)\n",
    "print(\"Confusion Matrix\")\n",
    "print(log_train_matrix)\n",
    "print(classification_report(y_train,pred_train))\n",
    "\n",
    "print('Logistic Regression Test Accuracy: {:.2f}%'.format((accuracy_test)*100))\n",
    "pred = model.predict(X_test)\n",
    "pred_prob=model.predict_proba(X_test)\n",
    "log_matrix = confusion_matrix(y_test,pred)\n",
    "print(\"Confusion Matrix\")\n",
    "print(log_matrix)\n",
    "print(classification_report(y_test,pred))"
   ]
  },
  {
   "cell_type": "code",
   "execution_count": 12,
   "id": "9a541b0d",
   "metadata": {},
   "outputs": [
    {
     "name": "stdout",
     "output_type": "stream",
     "text": [
      "X=[53, 1, 150, 200, 0, 160, 0, 2.1, 0, 0, 0, 0, 0, 0, 0, 0, 0, 0, 0, 0, 0, 0, 0, 0, 0, 0, 0], Predicted=0\n"
     ]
    }
   ],
   "source": [
    "#predict new\n",
    "Xnew = [[53,1,150,200,0,160,0,2.1,0,0,0,0,0,0,0,0,0,0,0,0,0,0,0,0,0,0,0]]\n",
    "ynew = model.predict(Xnew)\n",
    "print(\"X=%s, Predicted=%s\" % (Xnew[0], ynew[0]))"
   ]
  }
 ],
 "metadata": {
  "kernelspec": {
   "display_name": "Python 3 (ipykernel)",
   "language": "python",
   "name": "python3"
  },
  "language_info": {
   "codemirror_mode": {
    "name": "ipython",
    "version": 3
   },
   "file_extension": ".py",
   "mimetype": "text/x-python",
   "name": "python",
   "nbconvert_exporter": "python",
   "pygments_lexer": "ipython3",
   "version": "3.10.0"
  }
 },
 "nbformat": 4,
 "nbformat_minor": 5
}
